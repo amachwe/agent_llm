{
 "cells": [
  {
   "cell_type": "code",
   "execution_count": 1,
   "metadata": {},
   "outputs": [
    {
     "name": "stderr",
     "output_type": "stream",
     "text": [
      "100%|██████████| 100/100 [36:30:45<00:00, 1314.45s/it]   "
     ]
    },
    {
     "name": "stdout",
     "output_type": "stream",
     "text": [
      "1374.62 422.2052292428411\n"
     ]
    },
    {
     "name": "stderr",
     "output_type": "stream",
     "text": [
      "\n"
     ]
    }
   ],
   "source": [
    "from gen_ai_web_server import llm_client as llm_client\n",
    "import logs\n",
    "import numpy as np\n",
    "import tqdm\n",
    "\n",
    "GENERATE_SAMPLES = 100\n",
    "\n",
    "def get_response(response):\n",
    "    for r in response[\"response\"]:\n",
    "        if r['role'] == 'assistant':\n",
    "            return r['content']\n",
    "        \n",
    "def score(response_text):\n",
    "    return len(response_text)\n",
    "\n",
    "client = llm_client.Client()\n",
    "# print(client.send_request([{\"role\": \"user\",\"content\":\"How do you calculate pi?\"}]))\n",
    "# print(client.send_request_with_debug([{\"role\": \"user\",\"content\":\"How do you calculate pi?\"}]))\n",
    "# print(client.send_request_with_sampling_and_debug([{\"role\": \"user\",\"content\":\"How do you calculate pi?\"}]))\n",
    "\n",
    "core_instruction = \"answer questions with the minimum amount of text\"\n",
    "question = \"explain nuclear fusion?\"\n",
    "resp_samples = []\n",
    "resp_scores = []\n",
    "for i in tqdm.tqdm(range(GENERATE_SAMPLES)):\n",
    "    resp = client.send_request([{\"role\": \"user\",\"content\":question},{\"role\":\"system\", \"content\":core_instruction}], run_config={\"do_sample\":True})\n",
    "    text = get_response(resp)\n",
    "    resp_samples.append(text)\n",
    "    resp_scores.append(score(text))\n",
    "    \n",
    "\n",
    "print(np.average(resp_scores), np.std(resp_scores))\n"
   ]
  },
  {
   "cell_type": "code",
   "execution_count": 7,
   "metadata": {},
   "outputs": [
    {
     "data": {
      "image/png": "[encoded data removed]",
      "text/plain": [
       "<Figure size 640x480 with 1 Axes>"
      ]
     },
     "metadata": {},
     "output_type": "display_data"
    }
   ],
   "source": [
    "from matplotlib import pyplot as plt\n",
    "plt.hist(resp_scores, bins=15)\n",
    "plt.show()"
   ]
  },
  {
   "cell_type": "code",
   "execution_count": 3,
   "metadata": {},
   "outputs": [],
   "source": [
    "with open(\"nucl_fusion_samples.txt\", \"w\", encoding=\"utf-16\") as f:\n",
    "    for t in resp_samples:\n",
    "        f.write(t + \"\\n+\\n+\\n\", )\n",
    "\n"
   ]
  },
  {
   "cell_type": "code",
   "execution_count": 4,
   "metadata": {},
   "outputs": [
    {
     "name": "stderr",
     "output_type": "stream",
     "text": [
      "100%|██████████| 100/100 [07:53<00:00,  4.74s/it]\n"
     ]
    }
   ],
   "source": [
    "question = \"explain nuclear fusion?\"\n",
    "\n",
    "\n",
    "resp_analysis = []\n",
    "with open(\"nucl_fusion_samples_review_2.txt\", \"w\", encoding=\"utf-16\") as f:\n",
    "    for i in tqdm.tqdm(range(GENERATE_SAMPLES)):\n",
    "        answer = resp_samples[i]\n",
    "        core_instruction = f\"The question was {question}. Answer provided:{answer}.\"\n",
    "        resp = client.send_request([{\"role\": \"user\",\"content\":f\"{core_instruction}\"}, {\"role\":\"system\", \"content\":\"Score the answers between 0 and 10 based on length (smaller is better) and completeness of information (more the better). Only share the score.\"}], run_config={\"do_sample\":False})\n",
    "        text = get_response(resp)\n",
    "        resp_analysis.append(text)\n",
    "        f.write(text + \"\\n+\\n+\\n\" )\n",
    "        f.flush()\n",
    "    "
   ]
  },
  {
   "cell_type": "code",
   "execution_count": 13,
   "metadata": {},
   "outputs": [],
   "source": []
  }
 ],
 "metadata": {
  "kernelspec": {
   "display_name": "Python 3",
   "language": "python",
   "name": "python3"
  },
  "language_info": {
   "codemirror_mode": {
    "name": "ipython",
    "version": 3
   },
   "file_extension": ".py",
   "mimetype": "text/x-python",
   "name": "python",
   "nbconvert_exporter": "python",
   "pygments_lexer": "ipython3",
   "version": "3.11.1"
  }
 },
 "nbformat": 4,
 "nbformat_minor": 2
}
