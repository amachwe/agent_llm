{
 "cells": [
  {
   "cell_type": "code",
   "execution_count": 28,
   "id": "c8672c2a",
   "metadata": {},
   "outputs": [],
   "source": [
    "from gen_ai_web_server import llm_client\n",
    "from gen_ai_web_server import llm_server\n",
    "import os\n",
    "\n",
    "\n",
    "client = llm_client.GeminiClient()\n"
   ]
  },
  {
   "cell_type": "code",
   "execution_count": 47,
   "id": "81e5ce7b",
   "metadata": {},
   "outputs": [],
   "source": [
    "def call_main(prompt):\n",
    "    response = client.extract_response(client.send_request(prompt))\n",
    "    return response\n",
    "\n",
    "def compose(prompt):\n",
    "    response = call_main(prompt)\n",
    "    print(f\"Response: {response}\")\n",
    "    user_input = prompt[0][\"content\"]\n",
    "    check_prompt = f\"The question from a human:\\n{user_input}. Another human responds:\\n {response}. Do you approve the response? Check if the responding human has collected the facts, do you see evidence of internet search or references? Answer with 'yes' or 'no'.\"\n",
    "\n",
    "    return client.extract_response(client.send_request([{\"role\": \"user\", \"content\": check_prompt}]))"
   ]
  },
  {
   "cell_type": "code",
   "execution_count": 51,
   "id": "9bf8092f",
   "metadata": {},
   "outputs": [
    {
     "name": "stdout",
     "output_type": "stream",
     "text": [
      "Response: The latest news on XRP is mixed and largely depends on your perspective.  There's no single definitive \"latest\" update, as developments are ongoing and interpretations vary.  Here's a summary of key aspects:\n",
      "\n",
      "* **The SEC Lawsuit:** This remains the dominant factor affecting XRP's price and future.  The SEC's case against Ripple Labs, alleging that XRP is an unregistered security, is ongoing.  While a summary judgment was denied by the judge, leading to a trial,  the judge's decision contained elements favorable and unfavorable to both sides.  The outcome remains uncertain and could significantly impact the price.  Many analysts are closely watching for further developments and potential settlements.\n",
      "\n",
      "* **Programmatic Sales:**  A key point of contention in the SEC lawsuit revolves around Ripple's programmatic sales of XRP.  The court's rulings on these sales will heavily influence the final verdict.\n",
      "\n",
      "* **Institutional Adoption:** Despite the legal uncertainty, some institutions continue to show interest in XRP.  However, this adoption is limited compared to other cryptocurrencies due to the ongoing lawsuit.\n",
      "\n",
      "* **Price Volatility:**  XRP's price remains highly volatile and sensitive to news related to the lawsuit.  Positive developments tend to lead to price increases, while negative news causes drops.\n",
      "\n",
      "* **Decentralization Debate:**  The level of decentralization of XRP and Ripple's influence on it remains a topic of discussion and debate within the crypto community.  This is a factor considered by some in assessing its long-term viability.\n",
      "\n",
      "**In short:** The situation is fluid.  The SEC lawsuit is the primary driver of XRP's current state.  While some positive developments have occurred, the ultimate outcome remains unpredictable and will significantly determine XRP's future.  It's crucial to stay informed about court filings and any official announcements from Ripple and the SEC.  Remember that investing in cryptocurrencies is highly risky.\n",
      "\n",
      "yes\n",
      "\n"
     ]
    }
   ],
   "source": [
    "call_main([{\"user\":\"role\", \"content\":\"tell me a joke\"}])\n",
    "\n",
    "print(compose([{\"role\": \"user\", \"content\": \"Whats the latest on XRP?\"}]))"
   ]
  }
 ],
 "metadata": {
  "kernelspec": {
   "display_name": "Python 3",
   "language": "python",
   "name": "python3"
  },
  "language_info": {
   "codemirror_mode": {
    "name": "ipython",
    "version": 3
   },
   "file_extension": ".py",
   "mimetype": "text/x-python",
   "name": "python",
   "nbconvert_exporter": "python",
   "pygments_lexer": "ipython3",
   "version": "3.11.1"
  }
 },
 "nbformat": 4,
 "nbformat_minor": 5
}
